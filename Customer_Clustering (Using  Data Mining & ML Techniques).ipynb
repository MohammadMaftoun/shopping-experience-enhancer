{
 "cells": [
  {
   "cell_type": "code",
   "execution_count": null,
   "id": "6e2fcef2",
   "metadata": {},
   "outputs": [],
   "source": [
    "import pandas as pd\n",
    "import numpy as np"
   ]
  },
  {
   "cell_type": "code",
   "execution_count": null,
   "id": "916567c8",
   "metadata": {},
   "outputs": [],
   "source": [
    "#!pip install pyxlsb\n",
    "# or converting in excel to xlsx format"
   ]
  },
  {
   "cell_type": "code",
   "execution_count": null,
   "id": "2ded2c6a",
   "metadata": {},
   "outputs": [],
   "source": [
    "df = pd.read_excel(\"DataSet.xlsx\")"
   ]
  },
  {
   "cell_type": "code",
   "execution_count": null,
   "id": "a7be4bf5",
   "metadata": {},
   "outputs": [],
   "source": [
    "df.head()"
   ]
  },
  {
   "cell_type": "code",
   "execution_count": null,
   "id": "093f7bae",
   "metadata": {},
   "outputs": [],
   "source": [
    "df.shape"
   ]
  },
  {
   "cell_type": "code",
   "execution_count": null,
   "id": "275795be",
   "metadata": {},
   "outputs": [],
   "source": [
    "df.info()"
   ]
  },
  {
   "cell_type": "code",
   "execution_count": null,
   "id": "ecc147d7",
   "metadata": {},
   "outputs": [],
   "source": [
    "df.describe()"
   ]
  },
  {
   "cell_type": "code",
   "execution_count": null,
   "id": "38da38cb",
   "metadata": {},
   "outputs": [],
   "source": [
    "df = df[df['CustomerID'].notnull()]"
   ]
  },
  {
   "cell_type": "code",
   "execution_count": null,
   "id": "7997c331",
   "metadata": {},
   "outputs": [],
   "source": [
    "import datetime"
   ]
  },
  {
   "cell_type": "code",
   "execution_count": null,
   "id": "794a212a",
   "metadata": {},
   "outputs": [],
   "source": [
    "df['InvoiceDay'] = df['InvoiceDate'].apply(lambda x:datetime.datetime(x.year , x.month , x.day))"
   ]
  },
  {
   "cell_type": "code",
   "execution_count": null,
   "id": "5034176e",
   "metadata": {},
   "outputs": [],
   "source": [
    "df.head(10)"
   ]
  },
  {
   "cell_type": "code",
   "execution_count": null,
   "id": "c406c672",
   "metadata": {},
   "outputs": [],
   "source": [
    "df.Description.nunique()"
   ]
  },
  {
   "cell_type": "code",
   "execution_count": null,
   "id": "040190c9",
   "metadata": {},
   "outputs": [],
   "source": [
    "datetime.timedelta(1)"
   ]
  },
  {
   "cell_type": "code",
   "execution_count": null,
   "id": "ba0ac788",
   "metadata": {},
   "outputs": [],
   "source": [
    "pin_data = max(df['InvoiceDay']) + datetime.timedelta(1)\n",
    "pin_data"
   ]
  },
  {
   "cell_type": "code",
   "execution_count": null,
   "id": "2706d27e",
   "metadata": {},
   "outputs": [],
   "source": [
    "df['Total'] = df['Quantity'] * df['UnitPrice']\n",
    "df.head()"
   ]
  },
  {
   "cell_type": "code",
   "execution_count": null,
   "id": "f527a32f",
   "metadata": {},
   "outputs": [],
   "source": [
    "from matplotlib import pyplot as plt\n",
    "import seaborn as sns"
   ]
  },
  {
   "cell_type": "code",
   "execution_count": null,
   "id": "6a8fac67",
   "metadata": {},
   "outputs": [],
   "source": [
    "sorted_df = df.sort_values(by=['Quantity'], ascending=False)\n",
    "\n",
    "# get the CustomerID with the highest Quantity\n",
    "customer_id = sorted_df.iloc[0]['CustomerID']\n",
    "highest_quantity = sorted_df.iloc[0]['Quantity']\n",
    "\n",
    "print(f\"CustomerID {customer_id}  bought the highest quantity of {highest_quantity}.\")"
   ]
  },
  {
   "cell_type": "code",
   "execution_count": null,
   "id": "2ad1b0a5",
   "metadata": {},
   "outputs": [],
   "source": [
    "customer_totals = df.groupby('CustomerID')['Quantity'].sum()\n",
    "\n",
    "# sort the customer_totals by Quantity in descending order\n",
    "sorted_totals = customer_totals.sort_values(ascending=False)\n",
    "\n",
    "# get the top 10 customer IDs\n",
    "top_10_customers = sorted_totals.head(10)\n",
    "\n",
    "print(\"Top 10 Customers by Quantity:\")\n",
    "print(top_10_customers)"
   ]
  },
  {
   "cell_type": "code",
   "execution_count": null,
   "id": "c979c47e",
   "metadata": {},
   "outputs": [],
   "source": [
    "sorted_totals.head(10).plot(kind=\"bar\")\n",
    "plt.legend()\n",
    "plt.show()"
   ]
  },
  {
   "cell_type": "code",
   "execution_count": null,
   "id": "96f18aed",
   "metadata": {},
   "outputs": [],
   "source": [
    "top_10_descriptions = df['Description'].value_counts().nlargest(10)\n",
    "\n",
    "# Create a bar chart using Seaborn\n",
    "sns.barplot(y=top_10_descriptions.values, x=top_10_descriptions.index)\n",
    "plt.ylabel('Total')\n",
    "plt.xlabel('Description')\n",
    "plt.xticks(rotation=45)\n",
    "plt.title('Top 10 Product Descriptions')\n",
    "plt.show()"
   ]
  },
  {
   "cell_type": "code",
   "execution_count": null,
   "id": "591a6ac6",
   "metadata": {},
   "outputs": [],
   "source": [
    "df_country = df.groupby('Country')['Total'].mean().sort_values(ascending =False)[:10]\n",
    "df_country.plot(kind='bar', color ='green')\n",
    "plt.title(\"Top 10 Country has higest sales\")\n",
    "plt.xlabel('Total')\n",
    "plt.xticks(rotation=35)\n",
    "plt.show()"
   ]
  },
  {
   "cell_type": "code",
   "execution_count": null,
   "id": "3084d6aa",
   "metadata": {},
   "outputs": [],
   "source": [
    "plt.figure(figsize = (18,8))\n",
    "\n",
    "sns.barplot(x='Country',y='CustomerID',data = df)\n",
    "plt.xticks(rotation=60)"
   ]
  },
  {
   "cell_type": "code",
   "execution_count": null,
   "id": "61a63de7",
   "metadata": {},
   "outputs": [],
   "source": [
    "RFM = df.groupby('CustomerID').agg({\n",
    "    'InvoiceDay': lambda x: (pin_data - x.max()).days,\n",
    "    'InvoiceNo' : 'count' ,\n",
    "    'Total' : 'sum'\n",
    "})"
   ]
  },
  {
   "cell_type": "code",
   "execution_count": null,
   "id": "1763e445",
   "metadata": {},
   "outputs": [],
   "source": [
    "RFM"
   ]
  },
  {
   "cell_type": "code",
   "execution_count": null,
   "id": "c6f37e74",
   "metadata": {},
   "outputs": [],
   "source": [
    "df[df['CustomerID']== 12346.0]"
   ]
  },
  {
   "cell_type": "code",
   "execution_count": null,
   "id": "5692c353",
   "metadata": {},
   "outputs": [],
   "source": [
    "RFM.rename(columns= {\n",
    "    'InvoiceDay': 'Recency' ,\n",
    "    'InvoiceNo' : 'Frequency' ,\n",
    "    'Total' : 'Monetary'\n",
    " }, inplace=True)\n",
    "RFM"
   ]
  },
  {
   "cell_type": "code",
   "execution_count": null,
   "id": "7c2db9e5",
   "metadata": {},
   "outputs": [],
   "source": [
    "sns.heatmap(RFM.corr(), annot=True);"
   ]
  },
  {
   "cell_type": "code",
   "execution_count": null,
   "id": "d2b7e945",
   "metadata": {},
   "outputs": [],
   "source": [
    "r_labels = range(4, 0 , -1)\n",
    "r_groups = pd.qcut(RFM['Recency'], q=4 , labels=r_labels)\n",
    "f_labels = range(1, 5)\n",
    "f_groups = pd.qcut(RFM['Frequency'], q=4 , labels=f_labels)\n",
    "m_labels = range(1, 5)\n",
    "m_groups = pd.qcut(RFM['Monetary'], q=4 , labels=m_labels)"
   ]
  },
  {
   "cell_type": "code",
   "execution_count": null,
   "id": "7800507a",
   "metadata": {},
   "outputs": [],
   "source": [
    "RFM['R'] = r_groups.values\n",
    "RFM['F'] = f_groups.values\n",
    "RFM['M'] = m_groups.values\n",
    "RFM"
   ]
  },
  {
   "cell_type": "code",
   "execution_count": null,
   "id": "00ca9390",
   "metadata": {},
   "outputs": [],
   "source": [
    "RFM[\"RFM_SCORE\"] = (RFM['R'].astype(str) +\n",
    "                    RFM['F'].astype(str))"
   ]
  },
  {
   "cell_type": "code",
   "execution_count": null,
   "id": "e841e369",
   "metadata": {},
   "outputs": [],
   "source": [
    "RFM"
   ]
  },
  {
   "cell_type": "code",
   "execution_count": null,
   "id": "10889ced",
   "metadata": {},
   "outputs": [],
   "source": [
    "seg_map = {\n",
    "    r'[1-2][1-2]': 'inactive',\n",
    "    r'[1-2][3-4]': 'exposed',\n",
    "    r'[1-2]5': 'cant_loose',\n",
    "    r'3[1-2]': 'about_to_sleep',\n",
    "    r'33': 'need_attention',\n",
    "    r'[3-4][4-5]': 'allegiant',\n",
    "    r'41': 'promising',\n",
    "    r'51': 'new_customers',\n",
    "    r'[4-5][2-3]': 'potential_loyalists',\n",
    "    r'5[4-5]': 'crown'\n",
    "}\n",
    "RFM['segment'] = RFM['RFM_SCORE'].replace(seg_map, regex=True)\n",
    "RFM.reset_index(inplace=True)\n",
    "RFM.head()"
   ]
  },
  {
   "cell_type": "code",
   "execution_count": null,
   "id": "bce5efb3",
   "metadata": {},
   "outputs": [],
   "source": [
    "from sklearn.cluster import KMeans"
   ]
  },
  {
   "cell_type": "code",
   "execution_count": null,
   "id": "d18b9a27",
   "metadata": {},
   "outputs": [],
   "source": [
    "X = RFM[['R','F','M']]\n",
    "kmeans = KMeans(n_clusters = 5, init = 'k-means++', max_iter = 300)\n",
    "kmeans.fit(X)"
   ]
  },
  {
   "cell_type": "code",
   "execution_count": null,
   "id": "2db8b655",
   "metadata": {},
   "outputs": [],
   "source": [
    "lbs = kmeans.labels_\n",
    "print(lbs)"
   ]
  },
  {
   "cell_type": "code",
   "execution_count": null,
   "id": "1f24a83b",
   "metadata": {},
   "outputs": [],
   "source": [
    "RFM['kmeans_cluster'] = kmeans.labels_"
   ]
  },
  {
   "cell_type": "code",
   "execution_count": null,
   "id": "6ef7e3ea",
   "metadata": {},
   "outputs": [],
   "source": [
    "RFM.mean()"
   ]
  },
  {
   "cell_type": "code",
   "execution_count": null,
   "id": "e223c7ec",
   "metadata": {},
   "outputs": [],
   "source": [
    "RFM[RFM['kmeans_cluster'] == 3].mean()"
   ]
  },
  {
   "cell_type": "code",
   "execution_count": null,
   "id": "8959f67d",
   "metadata": {},
   "outputs": [],
   "source": [
    "kmeans.inertia_"
   ]
  },
  {
   "cell_type": "code",
   "execution_count": null,
   "id": "c558d9de",
   "metadata": {},
   "outputs": [],
   "source": [
    "wcss = {}\n",
    "for k in range(1,11):\n",
    "    kmeans = KMeans(n_clusters = k, init = 'k-means++', max_iter = 300) \n",
    "    kmeans.fit(X)\n",
    "    wcss[k] = kmeans.inertia_\n",
    "    \n",
    "sns.pointplot(x = list(wcss.keys()), y = list(wcss.values()))"
   ]
  },
  {
   "cell_type": "code",
   "execution_count": null,
   "id": "a2a1cce5",
   "metadata": {},
   "outputs": [],
   "source": [
    "from sklearn.metrics import davies_bouldin_score"
   ]
  },
  {
   "cell_type": "code",
   "execution_count": null,
   "id": "a36f9d76",
   "metadata": {},
   "outputs": [],
   "source": [
    "kmeans = KMeans(n_clusters=3)\n",
    "kmeans.fit(X)"
   ]
  },
  {
   "cell_type": "code",
   "execution_count": null,
   "id": "be454822",
   "metadata": {},
   "outputs": [],
   "source": [
    "print(davies_bouldin_score(X, kmeans.labels_))"
   ]
  },
  {
   "cell_type": "code",
   "execution_count": null,
   "id": "93ee40d3",
   "metadata": {},
   "outputs": [],
   "source": [
    "kmeans = KMeans(n_clusters=4)\n",
    "kmeans.fit(X)"
   ]
  },
  {
   "cell_type": "code",
   "execution_count": null,
   "id": "e8071a10",
   "metadata": {},
   "outputs": [],
   "source": [
    "print(davies_bouldin_score(X, kmeans.labels_))"
   ]
  },
  {
   "cell_type": "code",
   "execution_count": null,
   "id": "6a71b714",
   "metadata": {},
   "outputs": [],
   "source": [
    "kmeans = KMeans(n_clusters=5)\n",
    "kmeans.fit(X)"
   ]
  },
  {
   "cell_type": "code",
   "execution_count": null,
   "id": "88dcce0c",
   "metadata": {},
   "outputs": [],
   "source": [
    "print(davies_bouldin_score(X, kmeans.labels_))"
   ]
  },
  {
   "cell_type": "code",
   "execution_count": null,
   "id": "4bc9c7b4",
   "metadata": {},
   "outputs": [],
   "source": [
    "order = df.filter([\"CustomerID\",\"StockCode\"],axis=1)"
   ]
  },
  {
   "cell_type": "code",
   "execution_count": null,
   "id": "0e944fe8",
   "metadata": {},
   "outputs": [],
   "source": [
    "order = order.merge(RFM)"
   ]
  },
  {
   "cell_type": "code",
   "execution_count": null,
   "id": "756241cb",
   "metadata": {},
   "outputs": [],
   "source": [
    "order"
   ]
  },
  {
   "cell_type": "code",
   "execution_count": null,
   "id": "c27d49d9",
   "metadata": {},
   "outputs": [],
   "source": [
    "order_rating = order.loc[:, [\"CustomerID\",\"StockCode\",\"RFM_SCORE\"]]"
   ]
  },
  {
   "cell_type": "code",
   "execution_count": null,
   "id": "bdc5c7f3",
   "metadata": {},
   "outputs": [],
   "source": [
    "order_rating"
   ]
  },
  {
   "cell_type": "code",
   "execution_count": null,
   "id": "e89aac2a",
   "metadata": {},
   "outputs": [],
   "source": [
    "order_rating = order_rating[order_rating['StockCode'].isin(\n",
    "    order_rating['StockCode'].value_counts()[\n",
    "        order_rating['StockCode'].value_counts() > 10].index)]"
   ]
  },
  {
   "cell_type": "code",
   "execution_count": null,
   "id": "2d2d80cc",
   "metadata": {},
   "outputs": [],
   "source": [
    "order_rating = order_rating.reset_index()"
   ]
  },
  {
   "cell_type": "code",
   "execution_count": null,
   "id": "9bed9c55",
   "metadata": {},
   "outputs": [],
   "source": [
    "\n",
    "ratings_utility_matrix = order_rating.pivot_table(values='RFM_SCORE',\n",
    "                                                  index='CustomerID',\n",
    "                                                  columns='StockCode',\n",
    "                                                  fill_value=0)\n",
    "ratings_utility_matrix.head()"
   ]
  },
  {
   "cell_type": "code",
   "execution_count": null,
   "id": "a2cf8150",
   "metadata": {},
   "outputs": [],
   "source": [
    "ratings_utility_matrix.shape"
   ]
  },
  {
   "cell_type": "code",
   "execution_count": null,
   "id": "f3b8c343",
   "metadata": {},
   "outputs": [],
   "source": [
    "X = ratings_utility_matrix.T\n",
    "X.head()"
   ]
  },
  {
   "cell_type": "code",
   "execution_count": null,
   "id": "3f67b9b3",
   "metadata": {},
   "outputs": [],
   "source": [
    "X.shape"
   ]
  },
  {
   "cell_type": "code",
   "execution_count": null,
   "id": "3e1f6671",
   "metadata": {},
   "outputs": [],
   "source": [
    "from sklearn.decomposition import TruncatedSVD\n"
   ]
  },
  {
   "cell_type": "code",
   "execution_count": null,
   "id": "06fa53a1",
   "metadata": {},
   "outputs": [],
   "source": [
    "def fitsystemrecommendation(ratings_utility_matrix):\n",
    "    X = ratings_utility_matrix.T\n",
    "    SVD = TruncatedSVD(n_components=10)\n",
    "    decomposed_matrix = SVD.fit_transform(X)\n",
    "    correlation_matrix = np.corrcoef(decomposed_matrix)\n",
    "    return correlation_matrix"
   ]
  },
  {
   "cell_type": "code",
   "execution_count": null,
   "id": "c0eae18a",
   "metadata": {},
   "outputs": [],
   "source": [
    "correlation_matrix = fitsystemrecommendation(ratings_utility_matrix)"
   ]
  },
  {
   "cell_type": "code",
   "execution_count": null,
   "id": "29829fe0",
   "metadata": {},
   "outputs": [],
   "source": [
    "def systemrecommendation(prod_id):\n",
    "    order_rating.index[order_rating['StockCode'] == prod_id].tolist()[1]\n",
    "    product_names = list(X.index)\n",
    "    product_ID = product_names.index(prod_id)\n",
    "    correlation_product_ID = correlation_matrix[product_ID]\n",
    "    Recommend = list(X.index[correlation_product_ID > 0.70])\n",
    "    Recommend.remove(prod_id)\n",
    "    return pd.DataFrame(Recommend[0:9], columns=['Recommendation'])"
   ]
  },
  {
   "cell_type": "code",
   "execution_count": null,
   "id": "8eacf895",
   "metadata": {},
   "outputs": [],
   "source": [
    "systemrecommendation(10125)"
   ]
  },
  {
   "cell_type": "code",
   "execution_count": null,
   "id": "71ca3bc6",
   "metadata": {},
   "outputs": [],
   "source": []
  }
 ],
 "metadata": {
  "kernelspec": {
   "display_name": "Python 3 (ipykernel)",
   "language": "python",
   "name": "python3"
  },
  "language_info": {
   "codemirror_mode": {
    "name": "ipython",
    "version": 3
   },
   "file_extension": ".py",
   "mimetype": "text/x-python",
   "name": "python",
   "nbconvert_exporter": "python",
   "pygments_lexer": "ipython3",
   "version": "3.10.8"
  }
 },
 "nbformat": 4,
 "nbformat_minor": 5
}
